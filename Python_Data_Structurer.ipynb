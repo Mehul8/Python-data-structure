{
  "nbformat": 4,
  "nbformat_minor": 0,
  "metadata": {
    "colab": {
      "provenance": []
    },
    "kernelspec": {
      "name": "python3",
      "display_name": "Python 3"
    },
    "language_info": {
      "name": "python"
    }
  },
  "cells": [
    {
      "cell_type": "code",
      "execution_count": null,
      "metadata": {
        "id": "nZQbAC-G-GwG"
      },
      "outputs": [],
      "source": []
    },
    {
      "cell_type": "markdown",
      "source": [
        "# Python Data Structure\n",
        "\n",
        "## 1. What are data structures, and why are they important?\n",
        "Data structures organize and store data efficiently, improving performance. They enable quick data access, manipulation, and storage. Examples include lists, dictionaries, stacks, and trees. Choosing the right data structure optimizes time and space complexity.\n",
        "\n",
        "## 2. Explain the difference between mutable and immutable data types with examples\n",
        "Mutable data types (like lists and dictionaries) can be modified, while immutable ones (like strings and tuples) cannot. Modifying an immutable type creates a new object. Example: `list = [1, 2, 3]; list[0] = 100` (allowed), `tuple = (1, 2, 3); tuple[0] = 100` (error). Mutability impacts performance and security.\n",
        "\n",
        "## 3. What are the main differences between lists and tuples in Python?\n",
        "Lists are mutable, while tuples are immutable. Tuples are faster and use less memory compared to lists. Lists are used for dynamic collections, whereas tuples are preferred for fixed data. Example: `list = [1, 2, 3]` (modifiable), `tuple = (1, 2, 3)` (not modifiable).\n",
        "\n",
        "## 4. Describe how dictionaries store data\n",
        "Dictionaries store data as key-value pairs using a hash table. Keys must be unique and immutable, while values can be any data type. They provide fast lookups, insertions, and deletions. Example: `dict = {\"name\": \"Alice\", \"age\": 25}` allows quick access via `dict[\"name\"]`.\n",
        "\n",
        "## 5. Why might you use a set instead of a list in Python?\n",
        "Sets automatically remove duplicates, making them useful for unique collections. They support fast membership checks due to hashing. However, sets are unordered and do not support indexing. Example: `{1, 2, 2, 3}` results in `{1, 2, 3}` without duplicates.\n",
        "\n",
        "## 6. What is a string in Python, and how is it different from a list?\n",
        "A string is an immutable sequence of characters, while a list is a mutable collection of elements. Strings use less memory but cannot be modified in place. Lists allow modifications and support different data types. Example: `\"hello\"[0] = 'H'` (error), but `list[0] = \"H\"` (allowed).\n",
        "\n",
        "## 7. How do tuples ensure data integrity in Python?\n",
        "Tuples are immutable, preventing accidental modifications and ensuring data consistency. They are hashable, making them useful as dictionary keys. Since they use less memory, they enhance performance. Example: A tuple `(x, y)` ensures coordinates remain unchanged.\n",
        "\n",
        "## 8. What is a hash table, and how does it relate to dictionaries in Python?\n",
        "A hash table is a data structure that maps keys to values using a hash function. Python dictionaries use hash tables for fast lookups, insertions, and deletions. Hashing ensures O(1) average-time complexity. Example: `dict[\"key\"] = \"value\"` uses hashing for quick retrieval.\n",
        "\n",
        "## 9. Can lists contain different data types in Python?\n",
        "Yes, Python lists can hold different data types in the same collection. A single list can contain integers, strings, and even other lists. Example: `[1, \"hello\", [2, 3]]` is valid. This flexibility makes lists versatile but may impact performance.\n",
        "\n",
        "## 10. Explain why strings are immutable in Python\n",
        "Strings are immutable to optimize memory usage and security. Since they cannot be modified in place, Python can safely reuse string objects. This prevents unintended side effects and simplifies memory management. Example: `s = \"hello\"; s[0] = \"H\"` raises an error.\n",
        "\n",
        "## 11. What advantages do dictionaries offer over lists for certain tasks?\n",
        "Dictionaries allow fast key-based lookups, while lists require O(n) searches. They provide structured data storage using key-value pairs. Dictionaries support quick updates and deletions. Example: Searching for a name in `dict[\"name\"]` is faster than scanning a list.\n",
        "\n",
        "## 12. Describe a scenario where using a tuple would be preferable over a list\n",
        "Tuples are preferable when storing fixed data like geographic coordinates `(lat, long)`. They ensure data integrity since they are immutable. They also use less memory and improve performance. Example: Using `(1920, 1080)` for screen resolution prevents accidental changes.\n",
        "\n",
        "## 13. How do sets handle duplicate values in Python?\n",
        "Sets automatically remove duplicate values, ensuring uniqueness. They use a hash-based structure for fast lookups. Example: `{1, 2, 2, 3}` results in `{1, 2, 3}` without duplicates. This makes sets ideal for membership tests and unique collections.\n",
        "\n",
        "## 14. How does the “in” keyword work differently for lists and dictionaries?\n",
        "For lists, `in` performs a linear search (O(n)), checking each element. For dictionaries, `in` checks keys using a hash table (O(1) on average). Example: `\"a\" in [\"a\", \"b\"]` (slow for large lists) vs. `\"a\" in {\"a\": 1, \"b\": 2}` (fast lookup).\n",
        "\n",
        "## 15. Can you modify the elements of a tuple? Explain why or why not.\n",
        "No, tuples are immutable, meaning their elements cannot be changed after creation. This ensures data integrity and allows tuples to be used as dictionary keys. Example: `(1, 2, 3)[0] = 10` results in a `TypeError`. To modify, a new tuple must be created.\n",
        "\n",
        "## 16. What is a nested dictionary, and give an example of its use case?\n",
        "A nested dictionary is a dictionary within another dictionary. It is useful for storing hierarchical or structured data. Example: `students = {\"Alice\": {\"age\": 25, \"grade\": \"A\"}}` allows access via `students[\"Alice\"][\"age\"]`.\n",
        "\n",
        "## 17. Describe the time complexity of accessing elements in a dictionary.\n",
        "Dictionary lookups have an average time complexity of O(1) due to hashing. In worst cases (hash collisions), it can be O(n). However, Python optimizes hashing to maintain fast performance. Example: `dict[\"key\"]` retrieves values in constant time.\n",
        "\n",
        "## 18. In what situations are lists preferred over dictionaries?\n",
        "Lists are preferred when order matters, duplicates are allowed, or sequential access is needed. They are also useful for indexed data storage. Example: Storing a sequence of numbers `[1, 2, 3, 4]`. Lists are simpler and use less overhead than dictionaries.\n",
        "\n",
        "## 19. Why are dictionaries considered unordered, and how does that affect data retrieval?\n",
        "Before Python 3.7, dictionaries were unordered; now, they maintain insertion order but do not support indexing like lists. Unordered nature means items are accessed via keys, not positions. Example: `dict.keys()` returns keys in insertion order since Python 3.7.\n",
        "\n",
        "## 20. Explain the difference between a list and a dictionary in terms of data retrieval.\n",
        "Lists retrieve data by index (O(1) for direct access), while dictionaries retrieve data by key (O(1) on average). Lists are sequential, whereas dictionaries use hash-based lookups. Example: `list[0]` is position-based, but `dict[\"name\"]` is key-based for fast access.\n",
        "\n",
        "\n",
        "\n",
        "\n",
        "\n",
        "\n",
        "\n"
      ],
      "metadata": {
        "id": "uCrGt4BB-MIY"
      }
    },
    {
      "cell_type": "code",
      "source": [
        "# Question 1: Write a code to create a string with your name and print it\n",
        "name = \"Mehul\"\n",
        "print(name)"
      ],
      "metadata": {
        "colab": {
          "base_uri": "https://localhost:8080/"
        },
        "id": "9heSWwXB_s8O",
        "outputId": "1ced719c-8bd8-4496-e649-5421fb9896d3"
      },
      "execution_count": 1,
      "outputs": [
        {
          "output_type": "stream",
          "name": "stdout",
          "text": [
            "Mehul\n"
          ]
        }
      ]
    },
    {
      "cell_type": "code",
      "source": [
        "# Question 2: Write a code to find the length of the string \"Hello World\"\n",
        "print(len(\"Hello World\"))\n"
      ],
      "metadata": {
        "colab": {
          "base_uri": "https://localhost:8080/"
        },
        "id": "SAwhqlTU_4Yl",
        "outputId": "b3d75b82-1def-41a0-ff0f-1cfae1bd3572"
      },
      "execution_count": 2,
      "outputs": [
        {
          "output_type": "stream",
          "name": "stdout",
          "text": [
            "11\n"
          ]
        }
      ]
    },
    {
      "cell_type": "code",
      "source": [
        "# Question 3: Write a code to slice the first 3 characters from the string \"Python Programming\"\n",
        "print(\"Python Programming\"[:3])"
      ],
      "metadata": {
        "colab": {
          "base_uri": "https://localhost:8080/"
        },
        "id": "Zq2uiH5z_4VJ",
        "outputId": "4af4f3fe-0f7a-4a9f-ec31-183eeaa3a15b"
      },
      "execution_count": 3,
      "outputs": [
        {
          "output_type": "stream",
          "name": "stdout",
          "text": [
            "Pyt\n"
          ]
        }
      ]
    },
    {
      "cell_type": "code",
      "source": [
        "# Question 4: Write a code to convert the string \"hello\" to uppercase\n",
        "print(\"hello\".upper())"
      ],
      "metadata": {
        "colab": {
          "base_uri": "https://localhost:8080/"
        },
        "id": "4NJHVxUe_4SM",
        "outputId": "48c601bc-9c24-4d65-9cf4-59e0cf5379f5"
      },
      "execution_count": 4,
      "outputs": [
        {
          "output_type": "stream",
          "name": "stdout",
          "text": [
            "HELLO\n"
          ]
        }
      ]
    },
    {
      "cell_type": "code",
      "source": [
        "# Question 5: Write a code to replace the word \"apple\" with \"orange\" in the string \"I like apple\"\n",
        "print(\"I like apple\".replace(\"apple\", \"orange\"))\n"
      ],
      "metadata": {
        "colab": {
          "base_uri": "https://localhost:8080/"
        },
        "id": "UL8ZIeDv_4PX",
        "outputId": "4d0a1c0c-880d-47b8-9812-4f5604ae6941"
      },
      "execution_count": 5,
      "outputs": [
        {
          "output_type": "stream",
          "name": "stdout",
          "text": [
            "I like orange\n"
          ]
        }
      ]
    },
    {
      "cell_type": "code",
      "source": [
        "# Question 6: Write a code to create a list with numbers 1 to 5 and print it\n",
        "nums = [1, 2, 3, 4, 5]\n",
        "print(nums)\n"
      ],
      "metadata": {
        "colab": {
          "base_uri": "https://localhost:8080/"
        },
        "id": "DUKhpZ83_4Me",
        "outputId": "ab539df4-99d8-49fb-f67f-5fc819131e93"
      },
      "execution_count": 6,
      "outputs": [
        {
          "output_type": "stream",
          "name": "stdout",
          "text": [
            "[1, 2, 3, 4, 5]\n"
          ]
        }
      ]
    },
    {
      "cell_type": "code",
      "source": [
        "# Question 7: Write a code to append the number 10 to the list [1, 2, 3, 4]\n",
        "numbers = [1, 2, 3, 4]\n",
        "numbers.append(10)\n",
        "print(numbers)\n"
      ],
      "metadata": {
        "colab": {
          "base_uri": "https://localhost:8080/"
        },
        "id": "6e3PB5p7_4Jf",
        "outputId": "67cce459-98be-47a3-c7f6-cbca0cb65fa0"
      },
      "execution_count": 7,
      "outputs": [
        {
          "output_type": "stream",
          "name": "stdout",
          "text": [
            "[1, 2, 3, 4, 10]\n"
          ]
        }
      ]
    },
    {
      "cell_type": "code",
      "source": [
        "# Question 8: Write a code to remove the number 3 from the list [1, 2, 3, 4, 5]\n",
        "numbers = [1, 2, 3, 4, 5]\n",
        "numbers.remove(3)\n",
        "print(numbers)"
      ],
      "metadata": {
        "colab": {
          "base_uri": "https://localhost:8080/"
        },
        "id": "QaRUiezz_4G1",
        "outputId": "d26722bb-c48b-40ff-fc38-9f90b35ba4ab"
      },
      "execution_count": 8,
      "outputs": [
        {
          "output_type": "stream",
          "name": "stdout",
          "text": [
            "[1, 2, 4, 5]\n"
          ]
        }
      ]
    },
    {
      "cell_type": "code",
      "source": [
        "# Question 9: Write a code to access the second element in the list ['a', 'b', 'c', 'd']\n",
        "letters = ['a', 'b', 'c', 'd']\n",
        "print(letters[1])"
      ],
      "metadata": {
        "colab": {
          "base_uri": "https://localhost:8080/"
        },
        "id": "tdNGUWdf_4ET",
        "outputId": "c8fe76bd-fa0a-4357-ab29-18514ca97036"
      },
      "execution_count": 9,
      "outputs": [
        {
          "output_type": "stream",
          "name": "stdout",
          "text": [
            "b\n"
          ]
        }
      ]
    },
    {
      "cell_type": "code",
      "source": [
        "# Question 10: Write a code to reverse the list [10, 20, 30, 40, 50]\n",
        "numbers = [10, 20, 30, 40, 50]\n",
        "numbers.reverse()\n",
        "print(numbers)"
      ],
      "metadata": {
        "colab": {
          "base_uri": "https://localhost:8080/"
        },
        "id": "-0u4oiTl_4Bt",
        "outputId": "2242e5cd-ea77-4f1a-efb3-341d9b74feec"
      },
      "execution_count": 10,
      "outputs": [
        {
          "output_type": "stream",
          "name": "stdout",
          "text": [
            "[50, 40, 30, 20, 10]\n"
          ]
        }
      ]
    },
    {
      "cell_type": "code",
      "source": [
        "# Question 11: Write a code to create a tuple with the elements 100, 200, 300 and print it\n",
        "tuple1 = (100, 200, 300)\n",
        "print(tuple1)\n"
      ],
      "metadata": {
        "colab": {
          "base_uri": "https://localhost:8080/"
        },
        "id": "Et1V5SLf_3-j",
        "outputId": "83fbb1f9-3a41-490f-a6e8-650ad32614f9"
      },
      "execution_count": 11,
      "outputs": [
        {
          "output_type": "stream",
          "name": "stdout",
          "text": [
            "(100, 200, 300)\n"
          ]
        }
      ]
    },
    {
      "cell_type": "code",
      "source": [
        "# Question 12: Write a code to access the second-to-last element of the tuple ('red', 'green', 'blue', 'yellow')\n",
        "colors = ('red', 'green', 'blue', 'yellow')\n",
        "print(colors[-2])"
      ],
      "metadata": {
        "colab": {
          "base_uri": "https://localhost:8080/"
        },
        "id": "s_kcBh15_38M",
        "outputId": "a60a9cb7-1311-4b5a-e097-7911a2399a75"
      },
      "execution_count": 12,
      "outputs": [
        {
          "output_type": "stream",
          "name": "stdout",
          "text": [
            "blue\n"
          ]
        }
      ]
    },
    {
      "cell_type": "code",
      "source": [
        "# Question 13: Write a code to find the minimum number in the tuple (10, 20, 5, 15)\n",
        "numbers = (10, 20, 5, 15)\n",
        "print(min(numbers))"
      ],
      "metadata": {
        "colab": {
          "base_uri": "https://localhost:8080/"
        },
        "id": "_RMbXF1J_35U",
        "outputId": "a431b382-2926-4d39-9916-a48ca602465c"
      },
      "execution_count": 13,
      "outputs": [
        {
          "output_type": "stream",
          "name": "stdout",
          "text": [
            "5\n"
          ]
        }
      ]
    },
    {
      "cell_type": "code",
      "source": [
        "# Question 14: Write a code to find the index of the element \"cat\" in the tuple ('dog', 'cat', 'rabbit')\n",
        "animals = ('dog', 'cat', 'rabbit')\n",
        "print(animals.index(\"cat\"))\n"
      ],
      "metadata": {
        "colab": {
          "base_uri": "https://localhost:8080/"
        },
        "id": "egyB7Fvx_32x",
        "outputId": "b0841549-0150-490b-9505-47bed15989eb"
      },
      "execution_count": 15,
      "outputs": [
        {
          "output_type": "stream",
          "name": "stdout",
          "text": [
            "1\n"
          ]
        }
      ]
    },
    {
      "cell_type": "code",
      "source": [
        "# Question 15: Write a code to create a tuple containing three different fruits and check if \"kiwi\" is in it\n",
        "fruits = (\"apple\", \"banana\", \"cherry\")\n",
        "print(\"kiwi\" in fruits)"
      ],
      "metadata": {
        "colab": {
          "base_uri": "https://localhost:8080/"
        },
        "id": "hnhXXucu_30F",
        "outputId": "ec7225a1-7e5e-4095-87af-7cbd5143ba1e"
      },
      "execution_count": 16,
      "outputs": [
        {
          "output_type": "stream",
          "name": "stdout",
          "text": [
            "False\n"
          ]
        }
      ]
    },
    {
      "cell_type": "code",
      "source": [
        "# Question 16: Write a code to create a set with the elements 'a', 'b', 'c' and print it\n",
        "set1 = {'a', 'b', 'c'}\n",
        "print(set1)"
      ],
      "metadata": {
        "colab": {
          "base_uri": "https://localhost:8080/"
        },
        "id": "gBPF7QKp_3xV",
        "outputId": "1138cf13-911d-495f-904a-345c9c3d5c56"
      },
      "execution_count": 17,
      "outputs": [
        {
          "output_type": "stream",
          "name": "stdout",
          "text": [
            "{'a', 'b', 'c'}\n"
          ]
        }
      ]
    },
    {
      "cell_type": "code",
      "source": [
        "# Question 17: Write a code to clear all elements from the set {1, 2, 3, 4, 5}\n",
        "set2 = {1, 2, 3, 4, 5}\n",
        "set2.clear()\n",
        "print(set2)\n"
      ],
      "metadata": {
        "colab": {
          "base_uri": "https://localhost:8080/"
        },
        "id": "dSYrm6tLA1b_",
        "outputId": "1afe5f67-634a-4068-bba3-9f8d7bd708f7"
      },
      "execution_count": 18,
      "outputs": [
        {
          "output_type": "stream",
          "name": "stdout",
          "text": [
            "set()\n"
          ]
        }
      ]
    },
    {
      "cell_type": "code",
      "source": [
        "# Question 18: Write a code to remove the element 4 from the set {1, 2, 3, 4}\n",
        "set3 = {1, 2, 3, 4}\n",
        "set3.remove(4)\n",
        "print(set3)"
      ],
      "metadata": {
        "colab": {
          "base_uri": "https://localhost:8080/"
        },
        "id": "RMSiD2GzA1L5",
        "outputId": "63f2c0e0-db70-4f7e-e07d-53226e7a31c3"
      },
      "execution_count": 19,
      "outputs": [
        {
          "output_type": "stream",
          "name": "stdout",
          "text": [
            "{1, 2, 3}\n"
          ]
        }
      ]
    },
    {
      "cell_type": "code",
      "source": [
        "# Question 19: Write a code to find the union of two sets {1, 2, 3} and {3, 4, 5}\n",
        "set4 = {1, 2, 3}\n",
        "set5 = {3, 4, 5}\n",
        "print(set4 | set5)"
      ],
      "metadata": {
        "colab": {
          "base_uri": "https://localhost:8080/"
        },
        "id": "MpcSJZ4vA0_J",
        "outputId": "c40b6a73-7b81-4a05-8443-9417ef283ded"
      },
      "execution_count": 20,
      "outputs": [
        {
          "output_type": "stream",
          "name": "stdout",
          "text": [
            "{1, 2, 3, 4, 5}\n"
          ]
        }
      ]
    },
    {
      "cell_type": "code",
      "source": [
        "# Question 20: Write a code to find the intersection of two sets {1, 2, 3} and {2, 3, 4}\n",
        "set6 = {1, 2, 3}\n",
        "set7 = {2, 3, 4}\n",
        "print(set6 & set7)"
      ],
      "metadata": {
        "colab": {
          "base_uri": "https://localhost:8080/"
        },
        "id": "LFcdkyelA02E",
        "outputId": "91c4a032-a272-4432-d5e4-24be1e8cb6c0"
      },
      "execution_count": 21,
      "outputs": [
        {
          "output_type": "stream",
          "name": "stdout",
          "text": [
            "{2, 3}\n"
          ]
        }
      ]
    },
    {
      "cell_type": "code",
      "source": [
        "# Question 21: Write a code to create a dictionary with the keys \"name\", \"age\", and \"city\", and print it\n",
        "dict1 = {\"name\": \"John\", \"age\": 25, \"city\": \"New York\"}\n",
        "print(dict1)"
      ],
      "metadata": {
        "colab": {
          "base_uri": "https://localhost:8080/"
        },
        "id": "kpNgBaK2BL8K",
        "outputId": "cf70f51c-1ad8-49c8-8480-9a53c87ae383"
      },
      "execution_count": 22,
      "outputs": [
        {
          "output_type": "stream",
          "name": "stdout",
          "text": [
            "{'name': 'John', 'age': 25, 'city': 'New York'}\n"
          ]
        }
      ]
    },
    {
      "cell_type": "code",
      "source": [
        "# Question 22: Write a code to add a new key-value pair \"country\": \"USA\" to the dictionary {'name': 'John', 'age': 25}\n",
        "dict2 = {'name': 'John', 'age': 25}\n",
        "dict2[\"country\"] = \"USA\"\n",
        "print(dict2)"
      ],
      "metadata": {
        "colab": {
          "base_uri": "https://localhost:8080/"
        },
        "id": "Ci_qTnzvBLxe",
        "outputId": "db58b2b1-e138-4319-ccbc-af06c73d20d7"
      },
      "execution_count": 23,
      "outputs": [
        {
          "output_type": "stream",
          "name": "stdout",
          "text": [
            "{'name': 'John', 'age': 25, 'country': 'USA'}\n"
          ]
        }
      ]
    },
    {
      "cell_type": "code",
      "source": [
        "# Question 23: Write a code to access the value associated with the key \"name\" in the dictionary {'name': 'Alice', 'age': 30}\n",
        "dict3 = {'name': 'Alice', 'age': 30}\n",
        "print(dict3[\"name\"])"
      ],
      "metadata": {
        "colab": {
          "base_uri": "https://localhost:8080/"
        },
        "id": "sA3Y_gyABLcq",
        "outputId": "b561be53-c0ee-408d-a244-04965200855d"
      },
      "execution_count": 24,
      "outputs": [
        {
          "output_type": "stream",
          "name": "stdout",
          "text": [
            "Alice\n"
          ]
        }
      ]
    },
    {
      "cell_type": "code",
      "source": [
        "# Question 24: Write a code to remove the key \"age\" from the dictionary {'name': 'Bob', 'age': 22, 'city': 'New York'}\n",
        "dict4 = {'name': 'Bob', 'age': 22, 'city': 'New York'}\n",
        "del dict4[\"age\"]\n",
        "print(dict4)"
      ],
      "metadata": {
        "colab": {
          "base_uri": "https://localhost:8080/"
        },
        "id": "RoNKvHyjBVNo",
        "outputId": "c32c0326-b2a4-4018-b6f6-86de279efe8f"
      },
      "execution_count": 25,
      "outputs": [
        {
          "output_type": "stream",
          "name": "stdout",
          "text": [
            "{'name': 'Bob', 'city': 'New York'}\n"
          ]
        }
      ]
    },
    {
      "cell_type": "code",
      "source": [
        "# Question 25: Write a code to check if the key \"city\" exists in the dictionary {'name': 'Alice', 'city': 'Paris'}\n",
        "dict5 = {'name': 'Alice', 'city': 'Paris'}\n",
        "print(\"city\" in dict5)\n"
      ],
      "metadata": {
        "colab": {
          "base_uri": "https://localhost:8080/"
        },
        "id": "CdoWLcsZBVKM",
        "outputId": "5edd73d7-4454-4daa-dab4-b2d7d65aae9b"
      },
      "execution_count": 26,
      "outputs": [
        {
          "output_type": "stream",
          "name": "stdout",
          "text": [
            "True\n"
          ]
        }
      ]
    },
    {
      "cell_type": "code",
      "source": [
        "# Question 26: Write a code to create a list, a tuple, and a dictionary, and print them all\n",
        "list1 = [1, 2, 3]\n",
        "tuple2 = (4, 5, 6)\n",
        "dict6 = {\"a\": 7, \"b\": 8}\n",
        "print(list1, tuple2, dict6)"
      ],
      "metadata": {
        "colab": {
          "base_uri": "https://localhost:8080/"
        },
        "id": "4M4D4-s9BVIO",
        "outputId": "b1e86ae1-cff7-4c13-9d99-036fe31226f4"
      },
      "execution_count": 27,
      "outputs": [
        {
          "output_type": "stream",
          "name": "stdout",
          "text": [
            "[1, 2, 3] (4, 5, 6) {'a': 7, 'b': 8}\n"
          ]
        }
      ]
    },
    {
      "cell_type": "code",
      "source": [
        "# Question 27: Write a code to create a list of 5 random numbers between 1 and 100, sort it in ascending order, and print the result\n",
        "import random\n",
        "rand_list = random.sample(range(1, 101), 5)\n",
        "rand_list.sort()\n",
        "print(rand_list)\n"
      ],
      "metadata": {
        "colab": {
          "base_uri": "https://localhost:8080/"
        },
        "id": "Pld_6DvgBVFa",
        "outputId": "3434dbd4-5803-475d-8785-fdfc79ba89a4"
      },
      "execution_count": 28,
      "outputs": [
        {
          "output_type": "stream",
          "name": "stdout",
          "text": [
            "[13, 54, 63, 97, 99]\n"
          ]
        }
      ]
    },
    {
      "cell_type": "code",
      "source": [
        "# Question 28: Write a code to create a list with strings and print the element at the third index\n",
        "str_list = [\"apple\", \"banana\", \"cherry\", \"date\", \"elderberry\"]\n",
        "print(str_list[3])\n"
      ],
      "metadata": {
        "colab": {
          "base_uri": "https://localhost:8080/"
        },
        "id": "l8Jda4UuBVC6",
        "outputId": "89b652b2-eacc-4d69-8836-022903f87edd"
      },
      "execution_count": 29,
      "outputs": [
        {
          "output_type": "stream",
          "name": "stdout",
          "text": [
            "date\n"
          ]
        }
      ]
    },
    {
      "cell_type": "code",
      "source": [
        "# Question 29: Write a code to combine two dictionaries into one and print the result\n",
        "dict7 = {\"a\": 1, \"b\": 2}\n",
        "dict8 = {\"c\": 3, \"d\": 4}\n",
        "dict7.update(dict8)\n",
        "print(dict7)"
      ],
      "metadata": {
        "colab": {
          "base_uri": "https://localhost:8080/"
        },
        "id": "jc-RbhxpBVAl",
        "outputId": "20066374-2ec9-4917-8fd7-f9fcb04df9cb"
      },
      "execution_count": 30,
      "outputs": [
        {
          "output_type": "stream",
          "name": "stdout",
          "text": [
            "{'a': 1, 'b': 2, 'c': 3, 'd': 4}\n"
          ]
        }
      ]
    },
    {
      "cell_type": "code",
      "source": [
        "# Question 30: Write a code to convert a list of strings into a set\n",
        "string_list = [\"apple\", \"banana\", \"cherry\", \"apple\"]\n",
        "print(set(string_list))"
      ],
      "metadata": {
        "colab": {
          "base_uri": "https://localhost:8080/"
        },
        "id": "GQgY9WyMCMN3",
        "outputId": "20f553e3-cc95-4c44-95ab-31c8f66084c0"
      },
      "execution_count": 31,
      "outputs": [
        {
          "output_type": "stream",
          "name": "stdout",
          "text": [
            "{'cherry', 'apple', 'banana'}\n"
          ]
        }
      ]
    }
  ]
}